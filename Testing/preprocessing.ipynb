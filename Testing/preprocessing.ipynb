{
 "cells": [
  {
   "cell_type": "code",
   "execution_count": 4,
   "id": "e4c13011",
   "metadata": {},
   "outputs": [
    {
     "name": "stdout",
     "output_type": "stream",
     "text": [
      "92\n",
      "60\n",
      "80\n"
     ]
    }
   ],
   "source": [
    "import pandas as pd\n",
    "mayo = pd.read_csv('../mayositemap.csv')\n",
    "webmd = pd.read_csv('../webmdsitemap.csv')    \n",
    "healthline = pd.read_csv('../healthlinesitemap.csv')\n",
    "print(len(mayo))\n",
    "print(len(webmd))\n",
    "print(len(healthline))"
   ]
  },
  {
   "cell_type": "code",
   "execution_count": 8,
   "id": "607e110d",
   "metadata": {},
   "outputs": [],
   "source": [
    "mayo = mayo[[\"url\"] ]\n",
    "webmd = webmd[[\"url\"] ]\n",
    "healthline = healthline[[\"url\"] ]"
   ]
  },
  {
   "cell_type": "code",
   "execution_count": 9,
   "id": "74dde179",
   "metadata": {},
   "outputs": [
    {
     "name": "stdout",
     "output_type": "stream",
     "text": [
      "                                                 url\n",
      "0  https://www.mayoclinic.org/diseases-conditions...\n",
      "1  https://www.mayoclinic.org/diseases-conditions...\n",
      "2  https://www.mayoclinic.org/diseases-conditions...\n",
      "3  https://www.mayoclinic.org/diseases-conditions...\n",
      "4  https://www.mayoclinic.org/diseases-conditions...                                                  url\n",
      "0  https://blogs.webmd.com/digestive-health/20240...\n",
      "1  https://blogs.webmd.com/digestive-health/20240...\n",
      "2  https://blogs.webmd.com/digestive-health/20240...\n",
      "3  https://blogs.webmd.com/digestive-health/20240...\n",
      "4  https://blogs.webmd.com/digestive-health/20240...                                                  url\n",
      "0  https://www.healthline.com/health/ibs-c/kiwifr...\n",
      "1  https://www.healthline.com/health/ibs/is-ibs-d...\n",
      "2  https://www.healthline.com/health/ibs/irritabl...\n",
      "3  https://www.healthline.com/health/abdominal-bl...\n",
      "4  https://www.healthline.com/health/irritable-bo...\n"
     ]
    }
   ],
   "source": [
    "print(mayo.head(), webmd.head(), healthline.head() )"
   ]
  },
  {
   "cell_type": "code",
   "execution_count": 12,
   "id": "2c342488",
   "metadata": {},
   "outputs": [
    {
     "name": "stdout",
     "output_type": "stream",
     "text": [
      "232\n",
      "                                                 url\n",
      "0  https://www.mayoclinic.org/diseases-conditions...\n",
      "1  https://www.mayoclinic.org/diseases-conditions...\n",
      "2  https://www.mayoclinic.org/diseases-conditions...\n",
      "3  https://www.mayoclinic.org/diseases-conditions...\n",
      "4  https://www.mayoclinic.org/diseases-conditions...\n"
     ]
    }
   ],
   "source": [
    "result = pd.concat([mayo, webmd, healthline]).drop_duplicates().reset_index(drop=True)\n",
    "print(len(result))\n",
    "print(result.head())"
   ]
  },
  {
   "cell_type": "code",
   "execution_count": 13,
   "id": "7c4d7c01",
   "metadata": {},
   "outputs": [
    {
     "name": "stdout",
     "output_type": "stream",
     "text": [
      "Combined sitemap saved to 'combinedsitemap.csv'\n"
     ]
    }
   ],
   "source": [
    "result.to_csv('combinedsitemap.csv', index=False)\n",
    "print(\"Combined sitemap saved to 'combinedsitemap.csv'\")"
   ]
  },
  {
   "cell_type": "code",
   "execution_count": 14,
   "id": "ad16ba7b",
   "metadata": {},
   "outputs": [
    {
     "name": "stdout",
     "output_type": "stream",
     "text": [
      "                                                 url\n",
      "0  https://www.mayoclinic.org/diseases-conditions...\n",
      "1  https://www.mayoclinic.org/diseases-conditions...\n",
      "2  https://www.mayoclinic.org/diseases-conditions...\n",
      "3  https://www.mayoclinic.org/diseases-conditions...\n",
      "4  https://www.mayoclinic.org/diseases-conditions...\n",
      "                                                   url\n",
      "100  https://blogs.webmd.com/digestive-health/20240...\n",
      "101  https://blogs.webmd.com/digestive-health/20240...\n",
      "102  https://blogs.webmd.com/digestive-health/20240...\n",
      "103  https://blogs.webmd.com/digestive-health/20240...\n",
      "104  https://blogs.webmd.com/digestive-health/20240...\n",
      "                                                   url\n",
      "200  https://www.healthline.com/health/psyllium-hus...\n",
      "201  https://www.healthline.com/health/heartburn/he...\n",
      "202  https://www.healthline.com/health/white-matter...\n",
      "203  https://www.healthline.com/health/ibs/digestiv...\n",
      "204   https://www.healthline.com/health/neuroendoscopy\n"
     ]
    }
   ],
   "source": [
    "print(result[0:5])\n",
    "print(result[100:105])\n",
    "print(result[200:205])"
   ]
  }
 ],
 "metadata": {
  "kernelspec": {
   "display_name": "llmdata",
   "language": "python",
   "name": "python3"
  },
  "language_info": {
   "codemirror_mode": {
    "name": "ipython",
    "version": 3
   },
   "file_extension": ".py",
   "mimetype": "text/x-python",
   "name": "python",
   "nbconvert_exporter": "python",
   "pygments_lexer": "ipython3",
   "version": "3.12.8"
  }
 },
 "nbformat": 4,
 "nbformat_minor": 5
}
